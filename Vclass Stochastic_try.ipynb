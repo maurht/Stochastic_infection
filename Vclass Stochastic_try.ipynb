{
 "cells": [
  {
   "cell_type": "code",
   "execution_count": null,
   "id": "0baf8223",
   "metadata": {},
   "outputs": [],
   "source": [
    "import numpy as np\n",
    "import random as rnd\n",
    "from math import sqrt\n",
    "import pandas as pd\n",
    "import matplotlib.pyplot as plt\n",
    "import seaborn as sns\n",
    "from tqdm import tqdm_notebook, tqdm\n",
    "import plotly.express as px\n",
    "\n",
    "sns.set_theme(style='white')"
   ]
  },
  {
   "cell_type": "code",
   "execution_count": null,
   "id": "bcb83d1c",
   "metadata": {},
   "outputs": [],
   "source": [
    "def rnd_sign():\n",
    "    return 1 if rnd.random() < 0.5 else -1"
   ]
  },
  {
   "cell_type": "code",
   "execution_count": null,
   "id": "c3d8c33c",
   "metadata": {},
   "outputs": [],
   "source": [
    "class Indv:         # Definicion de un individuo\n",
    "    \n",
    "    def __init__(self,step_size, r_infec, p_infec, p_market, box, tmax_infec,tmax_market):\n",
    "        self.box = box                     # Tamapo de la region box x box\n",
    "        \n",
    "        self.x = self.box * (2 * rnd.random() - 1)          # Coordenadas iniciales\n",
    "        self.y = self.box * (2 * rnd.random() - 1)\n",
    "        \n",
    "        self.step_size = step_size           #Tamaño del paso\n",
    "        self.r_infec = r_infec             #Radio de infeccion\n",
    "        self.p_infec = p_infec             #Probabilidad de infeccion\n",
    "        self.p_market = p_market           #Probabilidad de ir al mercado\n",
    "                           \n",
    "        self.tmax_infec = tmax_infec       #Tiempo de duracion de la infeccion\n",
    "        self.tmax_market = tmax_market     #Tiempo en el mercado(?)\n",
    "        \n",
    "        self.est = 'S'            # Estado S-> suceptible, I-> infectado, R-> removido\n",
    "        self.xcp, ycp = 0, 0      # Coordenadas auxiliares \n",
    "        self.t = 0  \n",
    "        self.t_market = 0       #Tiempo en el mercado\n",
    "\n",
    "    def rand_walk(self):       #Caminata aleatoria\n",
    "        if self.est == 'I':    \n",
    "            self.t += 1        #Contador de tiempo infectado\n",
    "        if self.t == self.tmax_infec:\n",
    "            self.est = 'R'     #El individuo se cura\n",
    "        random_sign_x = rnd_sign()\n",
    "        random_sign_y = rnd_sign()\n",
    "        self.x += self.step_size * random_sign_x\n",
    "        self.y += self.step_size * random_sign_y\n",
    "        if abs(self.x) >= self.box:\n",
    "            self.x += 2 * self.step_size * (-1*random_sign_x)\n",
    "        if abs(self.y) >= self.box:\n",
    "            self.y += 2 * self.step_size * (-1*random_sign_y)\n",
    "\n",
    "\n",
    "    def walk_market(self):        #Caminata aleatoria pero existe la probabilidad de que \n",
    "                                  #el individuo visite un \"mercado\", que es un foco de infeccion\n",
    "        if rnd.random() <= self.p_market and self.t_market == 0:\n",
    "            self.xcp, self.ycp = self.x, self.y\n",
    "            self.x, self.y = 0, 0\n",
    "            self.t_market += 1\n",
    "        elif self.t_market < self.tmax_market and self.t_market != 0:\n",
    "            self.t_market += 1\n",
    "        elif self.t_market == self.tmax_market:\n",
    "            self.x, self.y = self.xcp, self.ycp\n",
    "            self.t_market = 0\n",
    "        else:\n",
    "            if self.est == 'I':\n",
    "                self.t += 1\n",
    "            if self.t == self.tmax_infec:\n",
    "                self.est = 'R'\n",
    "            random_sign_x = rnd_sign()\n",
    "            random_sign_y = rnd_sign()\n",
    "            self.x += self.step_size * random_sign_x\n",
    "            self.y += self.step_size * random_sign_y\n",
    "            if abs(self.x) >= self.box:\n",
    "                self.x += 2 * self.step_size * (-1*random_sign_x)\n",
    "            if abs(self.y) >= self.box:\n",
    "                self.y += 2 * self.step_size * (-1*random_sign_y)"
   ]
  },
  {
   "cell_type": "code",
   "execution_count": null,
   "id": "8dfc9408",
   "metadata": {},
   "outputs": [],
   "source": [
    "class Population:\n",
    "    \n",
    "    def __init__(self, N, I0, box, step_size = 0.05, r_infec = 0.05, p_infec = 0.1, p_market = 0.002, tmax_infec = 100,tmax_market = 4, rnd_starting_infection_time = False, market = False):\n",
    "        \n",
    "        # Simulation parameters\n",
    "        \n",
    "        self.N = N           # Tamaño de poblacion\n",
    "        self.I0 = I0            # Infectados iniciales   \n",
    "        \n",
    "        # Variables for Indv class \n",
    "        self.box = box \n",
    "        self.step_size = step_size           #Tamaño del paso\n",
    "        self.r_infec = r_infec             #Radio de infeccion\n",
    "        self.p_infec = p_infec             #Probabilidad de infeccion\n",
    "        self.p_market = p_market           #Probabilidad de ir al mercado\n",
    "                           \n",
    "        self.tmax_infec = tmax_infec       #Tiempo de duracion de la infeccion\n",
    "        self.tmax_market = tmax_market \n",
    "        \n",
    "        # Data record\n",
    "        self.Su = np.zeros(0, dtype=int)  # Desarrollo de poblacion suceptible a lo largo del tiempo\n",
    "        self.In = np.zeros(0, dtype=int)  # Desarrollo de poblacion infectada a lo largo del tiempo\n",
    "        self.Re = np.zeros(0, dtype=int)\n",
    "        \n",
    "        # Special features\n",
    "        self.rnd_starting_infection_time = rnd_starting_infection_time\n",
    "        self.market = market\n",
    "        \n",
    "        #setup\n",
    "        self.pop = self.populate()\n",
    "        \n",
    "    def populate(self):\n",
    "            \n",
    "        pop = [Indv(step_size = self.step_size,\n",
    "                    r_infec = self.r_infec, \n",
    "                    p_infec = self.r_infec, \n",
    "                    p_market = self.p_market, \n",
    "                    box = self.box, \n",
    "                    tmax_infec = self.tmax_infec,\n",
    "                    tmax_market = self.tmax_market) for i in range(self.N)] #Creacion de la poblacion\n",
    "            \n",
    "        #Asignacion de estatus I a I_O personas\n",
    "        count = 0\n",
    "        for person in pop:   \n",
    "            if self.rnd_starting_infection_time:\n",
    "                if count < self.I0:                  \n",
    "                    person.t = rnd.randint(0, self.tmax_infec)\n",
    "                    person.est = 'I'\n",
    "                    count +=1\n",
    "            else: \n",
    "                if count < self.I0:                \n",
    "                    person.est = 'I'\n",
    "                    count +=1\n",
    "        \n",
    "        return pop\n",
    "    \n",
    "    #one instance of time\n",
    "    \n",
    "    def be(self):\n",
    "        self.Su = np.append(self.Su, 0)\n",
    "        self.In = np.append(self.In, 0)\n",
    "        \n",
    "        for person in self.pop:\n",
    "            if self.market:\n",
    "                person.walk_market()\n",
    "            else:\n",
    "                person.rand_walk()\n",
    "            if person.est == 'S':\n",
    "                for other_person in self.pop:\n",
    "                    if person.est != 'S':\n",
    "                        break\n",
    "                    elif other_person.est == 'I' and rnd.random() <= self.p_infec and sqrt(\n",
    "                            (person.x - other_person.x) ** 2 + (person.y - other_person.y) ** 2) <= self.r_infec:\n",
    "                        person.est = 'I'\n",
    "            if person.est == 'S':\n",
    "                self.Su[-1] += 1\n",
    "            elif person.est == 'I':\n",
    "                self.In[-1] += 1\n",
    "        self.Re = np.append(self.Re, self.N - self.Su[-1] - self.In[-1])"
   ]
  },
  {
   "cell_type": "code",
   "execution_count": null,
   "id": "5af6edfb",
   "metadata": {},
   "outputs": [],
   "source": [
    "model = Population(N=3000, \n",
    "                   I0=10, \n",
    "                   box=1, \n",
    "                   tmax_infec=10)"
   ]
  },
  {
   "cell_type": "code",
   "execution_count": null,
   "id": "e0dd82e9",
   "metadata": {
    "scrolled": true
   },
   "outputs": [],
   "source": [
    "tmax = 200\n",
    "for step in tqdm(range(tmax)):\n",
    "    model.be()\n",
    "    if model.In[-1] == 0:\n",
    "        print('Early stopping. The number of infected dropped to 0.')\n",
    "        break"
   ]
  },
  {
   "cell_type": "code",
   "execution_count": null,
   "id": "894f3b34",
   "metadata": {},
   "outputs": [],
   "source": [
    "P = pd.DataFrame()\n",
    "P['X'] = [person.x for person in model.pop]\n",
    "P['Y'] = [person.y for person in model.pop]\n",
    "P['State'] = [person.est for person in model.pop]"
   ]
  },
  {
   "cell_type": "code",
   "execution_count": null,
   "id": "dde9d2b2",
   "metadata": {},
   "outputs": [],
   "source": [
    "plt.figure(figsize=(12,8))\n",
    "sns.scatterplot (data=P, x='X', y='Y', hue='State', palette='magma')\n",
    "plt.legend(bbox_to_anchor=(1.05, 0.5))\n",
    "plt.xlim([-model.box, model.box])\n",
    "plt.ylim([-model.box, model.box])"
   ]
  },
  {
   "cell_type": "code",
   "execution_count": null,
   "id": "754cadb0",
   "metadata": {},
   "outputs": [],
   "source": [
    "lines = pd.DataFrame()\n",
    "lines['Suceptible'] = model.Su\n",
    "lines['Infected'] = model.In\n",
    "lines['Removed'] = model.Re"
   ]
  },
  {
   "cell_type": "code",
   "execution_count": null,
   "id": "7b93d9aa",
   "metadata": {
    "scrolled": false
   },
   "outputs": [],
   "source": [
    "fig = px.line(lines)\n",
    "fig.show()"
   ]
  },
  {
   "cell_type": "code",
   "execution_count": null,
   "id": "87cc7559",
   "metadata": {
    "scrolled": true
   },
   "outputs": [],
   "source": [
    "print('Porcentaje de infeccion: ' + str((P.groupby('State').count()['X']['R']/model.N)*100))"
   ]
  }
 ],
 "metadata": {
  "kernelspec": {
   "display_name": "Python 3",
   "language": "python",
   "name": "python3"
  },
  "language_info": {
   "codemirror_mode": {
    "name": "ipython",
    "version": 3
   },
   "file_extension": ".py",
   "mimetype": "text/x-python",
   "name": "python",
   "nbconvert_exporter": "python",
   "pygments_lexer": "ipython3",
   "version": "3.8.8"
  }
 },
 "nbformat": 4,
 "nbformat_minor": 5
}
